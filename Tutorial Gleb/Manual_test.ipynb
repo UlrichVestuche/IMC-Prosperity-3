buy_ord = {10002:1,9996:2,9995:29}
sell_ord = {10004:2,10005:29,}
       
buy_lst = []
sell_lst = []

# If there are bids above fair price, sell the maximum possible volume
for p in buy_ord:
    if p > fairprice and position > - pos_limit:
        sell_amount = min(buy_ord[p], pos_limit + position)
        orders.append(Order(product,p,-sell_amount))
        position -= sell_amount
        if sell_amount < buy_ord[p]:
            buy_lst.append(p)
    else:
        buy_lst.append(p)
        
# If there are asks below fair price, buy the maximum possible volume
for p in sell_ord:
    if p < fairprice and position < pos_limit:
        buy_amount = min(-sell_ord[p], pos_limit - position)
        orders.append(Order(product,p,buy_amount))
        position += buy_amount
        if buy_amount < -sell_ord[p]:
            sell_lst.append(p)
    else:
        sell_lst.append(p)

# If all available positions were closed, put out Orders at maximum profit
if not buy_lst and pos_limit - position > 0:
    bid_amount = pos_limit - position
    orders.append(Order(product,1,bid_amount))

if not sell_lst and pos_limit + position > 0:
    ask_amount = - pos_limit - position
    orders.append(Order(product,20000,ask_amount))
        
# Determine the maximum bid and minimum ask after we executed all profitable trades
bid_max = max(buy_lst)
ask_min = min(sell_lst)

# Place competitive bids
if bid_max < fairprice - 1 and pos_limit - position > 0:
    bid_price = bid_max + 1
    bid_amount = pos_limit - position
    orders.append(Order(product,bid_price,bid_amount))
        
# Place competitive asks
if ask_min > fairprice + 1 and pos_limit + position > 0:
    ask_price = ask_min - 1
    ask_amount = - pos_limit - position
    orders.append(Order(product,ask_price,ask_amount))

print(buy_lst,bid_max)